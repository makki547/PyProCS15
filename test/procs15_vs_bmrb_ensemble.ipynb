{
 "cells": [
  {
   "cell_type": "code",
   "execution_count": 1,
   "id": "8da3c64c-b0e6-41b2-a104-74e3612fdb35",
   "metadata": {},
   "outputs": [],
   "source": [
    "import numpy as np\n",
    "import matplotlib.pyplot as plt\n",
    "import pynmrstar\n"
   ]
  },
  {
   "cell_type": "code",
   "execution_count": 2,
   "id": "b3afe53a-a11b-42a6-8729-ce8e80203dca",
   "metadata": {},
   "outputs": [],
   "source": [
    "entry = pynmrstar.Entry.from_database(17919)\n",
    "\n",
    "bmrb_cs = {}\n",
    "bmrb_seq = {}\n",
    "\n",
    "#loop = entry.get_loops_by_category('Atom_chem_shift')\n",
    "    \n",
    "elems = [cs.get_tag(['Seq_ID', 'Comp_ID', 'Atom_ID', 'Val']) for cs in entry.get_loops_by_category('Atom_chem_shift')]\n",
    "\n",
    "for seq_id, res, atom, shift in map(tuple, elems[0]):\n",
    "    seq_id = int(seq_id)\n",
    "    shift = float(shift)\n",
    "    \n",
    "    if seq_id not in bmrb_cs:\n",
    "        bmrb_cs[seq_id] = {}\n",
    "        bmrb_seq[seq_id] = res\n",
    "\n",
    "    bmrb_cs[seq_id][atom] = shift"
   ]
  },
  {
   "cell_type": "code",
   "execution_count": 3,
   "id": "c3ff7d61-ed62-4872-a127-5cfd0d3e4e7b",
   "metadata": {},
   "outputs": [],
   "source": [
    "procs = np.load('2lj5_shieldings.npy')"
   ]
  },
  {
   "cell_type": "code",
   "execution_count": 4,
   "id": "87ff5432-bb60-4343-b0d9-b26b1d95fba9",
   "metadata": {
    "scrolled": true
   },
   "outputs": [
    {
     "name": "stdout",
     "output_type": "stream",
     "text": [
      "(301, 76, 6)\n"
     ]
    }
   ],
   "source": [
    "print(procs.shape)"
   ]
  },
  {
   "cell_type": "code",
   "execution_count": 5,
   "id": "c7834064-bf35-4010-bb5c-109842c5cdfc",
   "metadata": {},
   "outputs": [
    {
     "name": "stdout",
     "output_type": "stream",
     "text": [
      "[[ 0.00000000e+00  0.00000000e+00  0.00000000e+00  0.00000000e+00\n",
      "   0.00000000e+00  0.00000000e+00]\n",
      " [ 0.00000000e+00  0.00000000e+00  0.00000000e+00  0.00000000e+00\n",
      "   0.00000000e+00  0.00000000e+00]\n",
      " [ 1.34377322e+02  1.52828843e+02  4.00385572e+01  1.46438300e+02\n",
      "   2.87068708e+01  2.66533577e+01]\n",
      " [ 1.36271653e+02  1.53233225e+02  4.06095984e+01  1.41865000e+02\n",
      "   2.75414711e+01  2.68117394e+01]\n",
      " [ 1.27574211e+02  1.60994426e+02  3.58376214e+01  1.41314684e+02\n",
      "   2.67922022e+01  2.76980111e+01]\n",
      " [ 1.37045457e+02  1.61040581e+02  3.77037189e+01  1.44174557e+02\n",
      "   2.83338406e+01  2.67235448e+01]\n",
      " [ 1.32851064e+02  1.23821734e+02  3.94855634e+01  1.42305701e+02\n",
      "   2.69420913e+01  2.69133107e+01]\n",
      " [ 1.36048371e+02  1.53065108e+02  3.69099655e+01  1.36742177e+02\n",
      "   2.57565333e+01  2.65270158e+01]\n",
      " [ 1.32632837e+02  1.22622736e+02  3.65076122e+01  1.50652339e+02\n",
      "   2.21540095e+01  2.64714975e+01]\n",
      " [ 1.46521135e+02  1.21567438e-01  3.91489727e+01  1.55203574e+02\n",
      "   2.70038583e+01  2.74648821e+01]\n",
      " [ 1.36053153e+02  1.61306472e+02  3.91355958e+01  1.46170633e+02\n",
      "   2.96670719e+01  2.67864490e+01]\n",
      " [ 1.30659358e+02  1.24501734e+02  3.95724466e+01  1.31631673e+02\n",
      "   2.44065148e+01  2.65290574e+01]\n",
      " [ 1.33635962e+02  1.54600538e+02  3.94766495e+01  1.36847863e+02\n",
      "   2.65025246e+01  2.66074794e+01]\n",
      " [ 1.30871604e+02  1.23433694e+02  4.10723085e+01  1.32261477e+02\n",
      "   2.38642992e+01  2.67540082e+01]\n",
      " [ 1.38915744e+02  1.51620324e+02  3.88162211e+01  1.36060765e+02\n",
      "   2.87484703e+01  2.64358176e+01]\n",
      " [ 1.36619845e+02  1.63604418e+02  3.63798866e+01  1.33279196e+02\n",
      "   2.42303857e+01  2.59087276e+01]\n",
      " [ 1.26534641e+02  1.55786690e+02  3.39098555e+01  1.42281804e+02\n",
      "   2.79591155e+01  2.74368926e+01]\n",
      " [ 1.39658128e+02  1.63645002e+02  3.63964218e+01  1.46428630e+02\n",
      "   2.54389271e+01  2.38395342e+01]\n",
      " [ 1.29014741e+02  1.61921538e+02  3.78671188e+01  1.18943631e+02\n",
      "   2.58165718e+01  2.64985223e+01]\n",
      " [ 1.26651277e+02  1.23608967e+02  4.05403264e+01  1.49021950e+02\n",
      "   2.43291856e+01  2.73904682e+01]\n",
      " [ 1.34538980e+02  1.56794798e+02  3.32119212e+01  1.23574126e+02\n",
      "   2.68527046e+01  2.58285375e+01]\n",
      " [ 1.33324137e+02  1.21225621e+02  3.65656386e+01  1.50611116e+02\n",
      "   2.74972358e+01  2.64169705e+01]\n",
      " [ 1.31879518e+02  1.59690803e+02  3.84405341e+01  1.42308472e+02\n",
      "   2.94712809e+01  2.71184221e+01]\n",
      " [ 1.33193028e+02  1.63933154e+02  3.73279268e+01  1.41105392e+02\n",
      "   2.59285047e+01  2.70933869e+01]\n",
      " [ 1.36871872e+02  1.57545702e+02  3.68677803e+01  1.45142317e+02\n",
      "   2.82603287e+01  2.62850123e+01]\n",
      " [ 1.32060318e+02  1.61517357e+02  4.13521495e+01  1.61600537e+02\n",
      "   3.02791234e+01  2.65579224e+01]\n",
      " [ 1.32100679e+02  1.60612952e+02  3.71958691e+01  1.55660476e+02\n",
      "   3.45029114e+01  2.74879052e+01]\n",
      " [ 1.37112515e+02  1.78265011e+02  3.65179158e+01  1.46833212e+02\n",
      "   2.95644013e+01  2.67183902e+01]\n",
      " [ 1.32779565e+02  1.60079400e+02  3.74226809e+01  1.59277386e+02\n",
      "   3.31126304e+01  2.71263576e+01]\n",
      " [ 1.28076962e+02  1.57263494e+02  3.86024526e+01  1.49305592e+02\n",
      "   2.97868807e+01  2.74098165e+01]\n",
      " [ 1.33201291e+02  1.65222066e+02  3.81092674e+01  1.53195583e+02\n",
      "   3.01608836e+01  2.75185983e+01]\n",
      " [ 1.35300428e+02  1.53536410e+02  3.48528827e+01  1.33527379e+02\n",
      "   2.73042563e+01  2.63865835e+01]\n",
      " [ 1.35689688e+02  1.60848511e+02  3.49326169e+01  1.47998610e+02\n",
      "   2.94473706e+01  2.63070702e+01]\n",
      " [ 1.37637615e+02  1.62233950e+02  3.60872583e+01  1.45121942e+02\n",
      "   2.71821537e+01  2.53485253e+01]\n",
      " [ 1.47560461e+02 -6.96704987e-01  3.94867892e+01  1.57160113e+02\n",
      "   2.74068042e+01  2.77993545e+01]\n",
      " [ 1.33614158e+02  1.58270125e+02  4.00623775e+01  1.44493204e+02\n",
      "   2.78265077e+01  2.63631234e+01]\n",
      " [ 1.31894598e+02  1.65018814e+02  3.91784675e+01  1.11503296e+02\n",
      "   2.74894596e+01  2.62118215e+01]\n",
      " [ 1.28107278e+02  1.64018996e+02  3.72697843e+01  1.17075264e+02\n",
      "   2.64252682e+01  2.68367161e+01]\n",
      " [ 1.36255539e+02  1.52862907e+02  3.52618666e+01  1.38464190e+02\n",
      "   2.47173110e+01  2.66154008e+01]\n",
      " [ 1.36797247e+02  1.63710969e+02  3.40766659e+01  1.54458710e+02\n",
      "   3.12721504e+01  2.63599757e+01]\n",
      " [ 1.36089847e+02  1.64462664e+02  3.82233441e+01  1.45422148e+02\n",
      "   2.99926045e+01  2.66508153e+01]\n",
      " [ 1.37951912e+02  1.62180969e+02  4.09966223e+01  1.44402646e+02\n",
      "   3.15721156e+01  2.66400782e+01]\n",
      " [ 1.37991949e+02  1.53421620e+02  3.88158242e+01  1.32026822e+02\n",
      "   2.65957357e+01  2.63479619e+01]\n",
      " [ 1.33538021e+02  1.53630637e+02  3.98772246e+01  1.37793725e+02\n",
      "   2.73038219e+01  2.65259480e+01]\n",
      " [ 1.36575143e+02  1.53299090e+02  4.00268605e+01  1.28878310e+02\n",
      "   2.42210960e+01  2.58135653e+01]\n",
      " [ 1.39097013e+02  1.77682781e+02  4.00961742e+01  1.33072472e+02\n",
      "   2.40809626e+01  2.72734868e+01]\n",
      " [ 1.45474688e+02  5.09201068e-01  4.08482574e+01  1.51960213e+02\n",
      "   2.36462247e+01  2.73369798e+01]\n",
      " [ 1.37800652e+02  1.60400570e+02  3.83446726e+01  1.37708753e+02\n",
      "   2.49678612e+01  2.61562165e+01]\n",
      " [ 1.35707273e+02  1.64999873e+02  3.82226241e+01  1.30917573e+02\n",
      "   2.46908128e+01  2.70011638e+01]\n",
      " [ 1.38261907e+02  1.54343182e+02  3.79872071e+01  1.34710831e+02\n",
      "   2.82893383e+01  2.62101453e+01]\n",
      " [ 1.36429309e+02  1.63330895e+02  3.68373555e+01  1.34114353e+02\n",
      "   2.78987518e+01  2.64224101e+01]\n",
      " [ 1.35323573e+02  1.53816903e+02  3.31474491e+01  1.29390938e+02\n",
      "   2.43143618e+01  2.64462363e+01]\n",
      " [ 1.47169188e+02  2.45919598e-01  3.45711991e+01  1.54810880e+02\n",
      "   2.37736279e+01  2.64345704e+01]\n",
      " [ 1.37055846e+02  1.61531439e+02  3.61922937e+01  1.46133529e+02\n",
      "   2.99354126e+01  2.67118170e+01]\n",
      " [ 1.32881968e+02  1.22479607e+02  3.90597256e+01  1.51782938e+02\n",
      "   2.77227918e+01  2.65367007e+01]\n",
      " [ 1.33887592e+02  1.53385798e+02  3.82000623e+01  1.40600998e+02\n",
      "   2.72821225e+01  2.67686971e+01]\n",
      " [ 1.29524211e+02  1.27448526e+02  4.17646220e+01  1.51965240e+02\n",
      "   2.56161356e+01  2.73095191e+01]\n",
      " [ 1.34638376e+02  1.53681833e+02  3.44898957e+01  1.30405929e+02\n",
      "   2.54144418e+01  2.64662104e+01]\n",
      " [ 1.36369780e+02  1.55118445e+02  3.52693670e+01  1.49811816e+02\n",
      "   2.75889800e+01  2.59133318e+01]\n",
      " [ 1.37208278e+02  1.57289773e+02  3.96713647e+01  1.49109049e+02\n",
      "   2.75441946e+01  2.70289332e+01]\n",
      " [ 1.30457152e+02  1.56610538e+02  3.82242900e+01  1.33632799e+02\n",
      "   2.37274508e+01  2.67728981e+01]\n",
      " [ 1.39993678e+02  1.62945521e+02  3.79411890e+01  1.33769514e+02\n",
      "   2.83304679e+01  2.55111793e+01]\n",
      " [ 1.35268924e+02  1.61747880e+02  3.65721850e+01  1.38933714e+02\n",
      "   2.59971128e+01  2.71887297e+01]\n",
      " [ 1.31683567e+02  1.66387037e+02  3.65620895e+01  1.42008222e+02\n",
      "   2.76267050e+01  2.72471996e+01]\n",
      " [ 1.25736039e+02  1.29954742e+02  4.00955878e+01  1.40967935e+02\n",
      "   2.78713193e+01  2.67091773e+01]\n",
      " [ 1.29580330e+02  1.22583699e+02  4.11933534e+01  1.36615169e+02\n",
      "   2.44067262e+01  2.76766393e+01]\n",
      " [ 1.38108571e+02  1.53487235e+02  3.80808587e+01  1.35778162e+02\n",
      "   3.01480948e+01  2.68778335e+01]\n",
      " [ 1.38086917e+02  1.62826783e+02  4.20192535e+01  1.40220054e+02\n",
      "   2.74090822e+01  2.67118192e+01]\n",
      " [ 1.35920374e+02  1.53026109e+02  3.94536781e+01  1.25414939e+02\n",
      "   2.60174527e+01  2.71102631e+01]\n",
      " [ 1.28584111e+02  1.58816641e+02  3.69772033e+01  1.38547622e+02\n",
      "   2.71354569e+01  2.69190439e+01]\n",
      " [ 1.38597791e+02  1.54290240e+02  3.55386199e+01  1.37297746e+02\n",
      "   2.38017685e+01  2.57562031e+01]\n",
      " [ 1.36835562e+02  1.63067415e+02  3.87450444e+01  1.49328386e+02\n",
      "   3.26054169e+01  2.69951613e+01]\n",
      " [ 1.37588647e+02  1.53487334e+02  3.59245728e+01  1.30910300e+02\n",
      "   2.51438086e+01  2.60108182e+01]\n",
      " [ 1.36425496e+02  1.62173030e+02  3.73496126e+01  1.41695516e+02\n",
      "   2.55868124e+01  2.65847835e+01]\n",
      " [ 0.00000000e+00  0.00000000e+00  0.00000000e+00  0.00000000e+00\n",
      "   0.00000000e+00  0.00000000e+00]\n",
      " [ 0.00000000e+00  0.00000000e+00  0.00000000e+00  0.00000000e+00\n",
      "   0.00000000e+00  0.00000000e+00]]\n"
     ]
    }
   ],
   "source": [
    "procs_mean = np.mean(procs, axis = 0)\n",
    "print(procs_mean)"
   ]
  },
  {
   "cell_type": "code",
   "execution_count": 14,
   "id": "43f7ec05-464e-4f0c-aba1-306a64a8f200",
   "metadata": {},
   "outputs": [],
   "source": [
    "procs_ca = []\n",
    "procs_cb = []\n",
    "procs_co = []\n",
    "procs_n = []\n",
    "procs_hn = []\n",
    "procs_ha = []\n",
    "\n",
    "\n",
    "bmrb_ca = []\n",
    "bmrb_cb = []\n",
    "bmrb_co = []\n",
    "bmrb_n = []\n",
    "bmrb_hn = []\n",
    "bmrb_ha = []\n",
    "\n",
    "for i in range(2, 72):\n",
    "    seq_id = i + 1\n",
    "\n",
    "    try:\n",
    "        bmrb_ca.append(bmrb_cs[seq_id]['CA'])\n",
    "        procs_ca.append(procs_mean[i, 0])\n",
    "    except:\n",
    "        pass\n",
    "\n",
    "    try:\n",
    "        bmrb_co.append(bmrb_cs[seq_id]['C'])\n",
    "        procs_co.append(procs_mean[i, 2])\n",
    "    except:\n",
    "        pass\n",
    "    \n",
    "    if  bmrb_seq[seq_id] != 'PRO':\n",
    "        try:\n",
    "            bmrb_n.append(bmrb_cs[seq_id]['N'])\n",
    "            procs_n.append(procs_mean[i, 3])\n",
    "        except:\n",
    "            pass\n",
    "\n",
    "        try:\n",
    "            bmrb_hn.append(bmrb_cs[seq_id]['H'])\n",
    "            procs_hn.append(procs_mean[i, 4])\n",
    "        except:\n",
    "            pass\n",
    "    if  bmrb_seq[seq_id] == 'GLY':\n",
    "        try:\n",
    "            bmrb_ha.append(bmrb_cs[seq_id]['HA2'])\n",
    "            procs_ha.append(procs_mean[i, 5])\n",
    "        except:\n",
    "            pass\n",
    "    else:\n",
    "        try:\n",
    "            bmrb_cb.append(bmrb_cs[seq_id]['CB'])\n",
    "            procs_cb.append(procs_mean[i, 1])\n",
    "        except:\n",
    "            pass\n",
    "        \n",
    "        try:    \n",
    "            bmrb_ha.append(bmrb_cs[seq_id]['HA'])\n",
    "            procs_ha.append(procs_mean[i, 5])\n",
    "        except:\n",
    "            pass\n",
    "\n",
    "procs_ca = np.array(procs_ca)\n",
    "procs_cb = np.array(procs_cb)\n",
    "procs_co = np.array(procs_co)\n",
    "procs_n = np.array(procs_n)\n",
    "procs_hn = np.array(procs_hn)\n",
    "procs_ha = np.array(procs_ha)\n",
    "\n",
    "bmrb_ca = np.array(bmrb_ca)\n",
    "bmrb_cb = np.array(bmrb_cb)\n",
    "bmrb_co = np.array(bmrb_co)\n",
    "bmrb_n = np.array(bmrb_n)\n",
    "bmrb_hn = np.array(bmrb_hn)\n",
    "bmrb_ha = np.array(bmrb_ha)"
   ]
  },
  {
   "cell_type": "code",
   "execution_count": 15,
   "id": "686d1c5f-904d-4070-8057-3849ee48bfe7",
   "metadata": {},
   "outputs": [
    {
     "data": {
      "text/plain": [
       "<matplotlib.collections.PathCollection at 0x1973d2a6250>"
      ]
     },
     "execution_count": 15,
     "metadata": {},
     "output_type": "execute_result"
    },
    {
     "data": {
      "image/png": "[encoded data removed]",
      "text/plain": [
       "<Figure size 640x480 with 1 Axes>"
      ]
     },
     "metadata": {},
     "output_type": "display_data"
    }
   ],
   "source": [
    "plt.scatter(procs_ca, bmrb_ca)"
   ]
  },
  {
   "cell_type": "code",
   "execution_count": 16,
   "id": "f0f6ad02-7cf2-488a-9d3c-f2fb84477e44",
   "metadata": {},
   "outputs": [
    {
     "data": {
      "text/plain": [
       "<matplotlib.collections.PathCollection at 0x1973d34c9d0>"
      ]
     },
     "execution_count": 16,
     "metadata": {},
     "output_type": "execute_result"
    },
    {
     "data": {
      "image/png": "[encoded data removed]",
      "text/plain": [
       "<Figure size 640x480 with 1 Axes>"
      ]
     },
     "metadata": {},
     "output_type": "display_data"
    }
   ],
   "source": [
    "plt.scatter(procs_co, bmrb_co)"
   ]
  },
  {
   "cell_type": "code",
   "execution_count": 17,
   "id": "3fb5b3ba-0fa9-4da4-99ab-e4a16cd2eb3c",
   "metadata": {},
   "outputs": [
    {
     "data": {
      "text/plain": [
       "<matplotlib.collections.PathCollection at 0x1973d23a9a0>"
      ]
     },
     "execution_count": 17,
     "metadata": {},
     "output_type": "execute_result"
    },
    {
     "data": {
      "image/png": "[encoded data removed]",
      "text/plain": [
       "<Figure size 640x480 with 1 Axes>"
      ]
     },
     "metadata": {},
     "output_type": "display_data"
    }
   ],
   "source": [
    "plt.scatter(procs_ha, bmrb_ha)"
   ]
  },
  {
   "cell_type": "code",
   "execution_count": 18,
   "id": "53f679be-5e32-4220-b8e0-f05acb3b853c",
   "metadata": {},
   "outputs": [
    {
     "data": {
      "text/plain": [
       "<matplotlib.collections.PathCollection at 0x1973d167130>"
      ]
     },
     "execution_count": 18,
     "metadata": {},
     "output_type": "execute_result"
    },
    {
     "data": {
      "image/png": "[encoded data removed]",
      "text/plain": [
       "<Figure size 640x480 with 1 Axes>"
      ]
     },
     "metadata": {},
     "output_type": "display_data"
    }
   ],
   "source": [
    "plt.scatter(procs_hn, bmrb_hn)"
   ]
  },
  {
   "cell_type": "code",
   "execution_count": 19,
   "id": "1efda4f6-d5af-4a93-b1e4-e4f7bc2a2e08",
   "metadata": {},
   "outputs": [
    {
     "data": {
      "text/plain": [
       "<matplotlib.collections.PathCollection at 0x1973d55b250>"
      ]
     },
     "execution_count": 19,
     "metadata": {},
     "output_type": "execute_result"
    },
    {
     "data": {
      "image/png": "[encoded data removed]",
      "text/plain": [
       "<Figure size 640x480 with 1 Axes>"
      ]
     },
     "metadata": {},
     "output_type": "display_data"
    }
   ],
   "source": [
    "plt.scatter(procs_cb, bmrb_cb)"
   ]
  },
  {
   "cell_type": "code",
   "execution_count": 20,
   "id": "aa75a446-7f48-4d34-8534-6fb754d972a6",
   "metadata": {},
   "outputs": [],
   "source": [
    "from numpy.polynomial import Polynomial"
   ]
  },
  {
   "cell_type": "code",
   "execution_count": 21,
   "id": "ad3861e9-2004-4b12-9ec2-6a09535859c2",
   "metadata": {},
   "outputs": [],
   "source": [
    "co_reg = np.polyfit(procs_co, bmrb_co, 1)"
   ]
  },
  {
   "cell_type": "code",
   "execution_count": 22,
   "id": "927cb68d-5637-4c21-8f55-d708fadb90d6",
   "metadata": {},
   "outputs": [
    {
     "data": {
      "text/plain": [
       "<matplotlib.collections.PathCollection at 0x1973d04e160>"
      ]
     },
     "execution_count": 22,
     "metadata": {},
     "output_type": "execute_result"
    },
    {
     "data": {
      "image/png": "[encoded data removed]",
      "text/plain": [
       "<Figure size 640x480 with 1 Axes>"
      ]
     },
     "metadata": {},
     "output_type": "display_data"
    }
   ],
   "source": [
    "plt.scatter(co_reg[0] * procs_co + co_reg[1], bmrb_co)"
   ]
  },
  {
   "cell_type": "code",
   "execution_count": 27,
   "id": "cd71f7c2-1306-4248-b9ec-94e67a79bb8d",
   "metadata": {},
   "outputs": [],
   "source": [
    "co_rmsd = np.linalg.norm(co_reg[0] * procs_co + co_reg[1] - bmrb_co) / np.sqrt(len(procs_co))"
   ]
  },
  {
   "cell_type": "code",
   "execution_count": 28,
   "id": "5bc28695-0fa9-4a62-83dd-2771010eeae3",
   "metadata": {},
   "outputs": [
    {
     "name": "stdout",
     "output_type": "stream",
     "text": [
      "1.8330688574445613\n"
     ]
    }
   ],
   "source": [
    "print(co_rmsd)"
   ]
  },
  {
   "cell_type": "code",
   "execution_count": 29,
   "id": "6671157f-0a6b-427e-bb99-6fb9beba1558",
   "metadata": {},
   "outputs": [],
   "source": [
    "ca_reg = np.polyfit(procs_ca, bmrb_ca, 1)\n",
    "cb_reg = np.polyfit(procs_cb, bmrb_cb, 1)\n",
    "\n",
    "ca_rmsd = np.linalg.norm(ca_reg[0] * procs_ca + ca_reg[1] - bmrb_ca) / np.sqrt(len(procs_ca))\n",
    "cb_rmsd = np.linalg.norm(cb_reg[0] * procs_cb + cb_reg[1] - bmrb_cb) / np.sqrt(len(procs_cb))\n",
    "\n"
   ]
  },
  {
   "cell_type": "code",
   "execution_count": 30,
   "id": "90301b84-b582-4bd1-b14e-e95803cc8c0d",
   "metadata": {},
   "outputs": [
    {
     "name": "stdout",
     "output_type": "stream",
     "text": [
      "2.048706822762868\n",
      "1.8753557658763087\n"
     ]
    }
   ],
   "source": [
    "print(ca_rmsd)\n",
    "print(cb_rmsd)"
   ]
  },
  {
   "cell_type": "code",
   "execution_count": null,
   "id": "8146b22e-aa17-46fa-96c5-d1bb557cf640",
   "metadata": {},
   "outputs": [],
   "source": []
  }
 ],
 "metadata": {
  "kernelspec": {
   "display_name": "Python 3 (ipykernel)",
   "language": "python",
   "name": "python3"
  },
  "language_info": {
   "codemirror_mode": {
    "name": "ipython",
    "version": 3
   },
   "file_extension": ".py",
   "mimetype": "text/x-python",
   "name": "python",
   "nbconvert_exporter": "python",
   "pygments_lexer": "ipython3",
   "version": "3.9.13"
  }
 },
 "nbformat": 4,
 "nbformat_minor": 5
}
